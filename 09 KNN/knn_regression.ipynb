{
 "cells": [
  {
   "cell_type": "code",
   "execution_count": 17,
   "metadata": {},
   "outputs": [
    {
     "data": {
      "text/plain": [
       "<__main__.KNeighborsRegressor at 0x11f4becf0>"
      ]
     },
     "execution_count": 17,
     "metadata": {},
     "output_type": "execute_result"
    }
   ],
   "source": [
    "import pandas as pd \n",
    "import numpy as np\n",
    "from numpy import ndarray\n",
    "\n",
    "df = pd.read_csv('data/advertising.csv')\n",
    "X = df.drop(columns='Sales').values\n",
    "y = df['Sales'].values\n",
    "\n",
    "from sklearn.model_selection import train_test_split\n",
    "\n",
    "X_train, X_test, y_train, y_test = train_test_split(X, y, train_size=0.9, random_state=42)\n",
    "\n",
    "from sklearn.preprocessing import StandardScaler\n",
    "\n",
    "scaler = StandardScaler()\n",
    "\n",
    "X_train = scaler.fit_transform(X_train)\n",
    "X_test = scaler.transform(X_test)\n",
    "\n",
    "class KNeighborsRegressor:\n",
    "    def __init__(self, n_neighbours: int =5):\n",
    "        self.n_neighbours = n_neighbours\n",
    "        self.X: ndarray|None = None\n",
    "        self.y: ndarray|None = None\n",
    "    def fit(self, X, y):\n",
    "        self.X = np.array(X)\n",
    "        self.y = np.array(y)\n",
    "        return self\n",
    "    def predict(self, X):\n",
    "        if self.X is None or self.y is None:\n",
    "            raise   TypeError('Model is not fit yet!')\n",
    "        X = np.array(X)\n",
    "        dist = np.sqrt(np.sum((X[:, np.newaxis, :] - self.X[np.newaxis, :, :])**2, axis=2))\n",
    "        neighbours_idx =  np.argsort(dist, axis=1)[:,: self.n_neighbours]\n",
    "        neighbours_y = self.y[neighbours_idx]\n",
    "        predictions = neighbours_y.mean(axis=1)\n",
    "        return predictions\n",
    "\n",
    "model = KNeighborsRegressor()\n",
    "\n",
    "model.fit(X_train, y_train)\n",
    "\n",
    "\n"
   ]
  },
  {
   "cell_type": "code",
   "execution_count": 33,
   "metadata": {},
   "outputs": [
    {
     "name": "stdout",
     "output_type": "stream",
     "text": [
      "[17.8  22.12 20.5   9.78 22.3  13.16 22.16  9.3  17.42 17.26  9.    8.22\n",
      " 18.6   7.04 11.14 14.52  8.52 19.26 11.44 18.56]\n"
     ]
    }
   ],
   "source": [
    "y_pred = np.array(model.predict(X_test).reshape(20,))\n",
    "print(y_pred)\n"
   ]
  },
  {
   "cell_type": "code",
   "execution_count": 34,
   "metadata": {},
   "outputs": [
    {
     "data": {
      "text/plain": [
       "1.563348969360328"
      ]
     },
     "execution_count": 34,
     "metadata": {},
     "output_type": "execute_result"
    }
   ],
   "source": [
    "from sklearn.metrics import root_mean_squared_error\n",
    "\n",
    "root_mean_squared_error(y_test, y_pred)"
   ]
  }
 ],
 "metadata": {
  "kernelspec": {
   "display_name": "Python 3",
   "language": "python",
   "name": "python3"
  },
  "language_info": {
   "codemirror_mode": {
    "name": "ipython",
    "version": 3
   },
   "file_extension": ".py",
   "mimetype": "text/x-python",
   "name": "python",
   "nbconvert_exporter": "python",
   "pygments_lexer": "ipython3",
   "version": "3.13.2"
  }
 },
 "nbformat": 4,
 "nbformat_minor": 2
}
